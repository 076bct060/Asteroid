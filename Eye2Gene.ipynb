{
  "nbformat": 4,
  "nbformat_minor": 0,
  "metadata": {
    "colab": {
      "provenance": [],
      "authorship_tag": "ABX9TyM6qtCK1ZrZvXsNfu1e/wdM"
    },
    "kernelspec": {
      "name": "python3",
      "display_name": "Python 3"
    },
    "language_info": {
      "name": "python"
    },
    "gpuClass": "standard",
    "accelerator": "GPU"
  },
  "cells": [
    {
      "cell_type": "code",
      "execution_count": null,
      "metadata": {
        "id": "EwaV1gmOzdO3",
        "colab": {
          "base_uri": "https://localhost:8080/"
        },
        "outputId": "ff50eea1-93f1-42d8-c119-fa9e15652042"
      },
      "outputs": [
        {
          "output_type": "stream",
          "name": "stdout",
          "text": [
            "Looking in indexes: https://pypi.org/simple, https://us-python.pkg.dev/colab-wheels/public/simple/\n",
            "Requirement already satisfied: torch_summary in /usr/local/lib/python3.8/dist-packages (1.4.5)\n",
            "cuda\n"
          ]
        }
      ],
      "source": [
        "import torch as th\n",
        "import pandas as pd\n",
        "import torch.nn as nn\n",
        "import torch.nn.functional as f\n",
        "import matplotlib.pyplot as plt\n",
        "import numpy as np\n",
        "import torchvision\n",
        "import torchvision.transforms as transform\n",
        "!pip install torch_summary\n",
        "from torchsummary import summary\n",
        "import cv2 as cv\n",
        "device= 'cuda' if  th.cuda.is_available() else 'cpu'\n",
        "print(device)"
      ]
    },
    {
      "cell_type": "code",
      "source": [
        "import os\n",
        "from google.colab import drive\n",
        "drive.mount('/content/gdrive')\n",
        "os.chdir('/content/gdrive/MyDrive/NAAMII/')\n"
      ],
      "metadata": {
        "id": "8qKQ0UFTPicH",
        "colab": {
          "base_uri": "https://localhost:8080/"
        },
        "outputId": "ef0a622d-ab9a-43e4-f89e-deea1ca33e16"
      },
      "execution_count": null,
      "outputs": [
        {
          "output_type": "stream",
          "name": "stdout",
          "text": [
            "Drive already mounted at /content/gdrive; to attempt to forcibly remount, call drive.mount(\"/content/gdrive\", force_remount=True).\n"
          ]
        }
      ]
    },
    {
      "cell_type": "markdown",
      "source": [],
      "metadata": {
        "id": "xg2w3UtWHvm8"
      }
    },
    {
      "cell_type": "code",
      "source": [
        "data=pd.read_csv(\"Data.csv\")\n",
        "data=data.iloc[:,1:]\n",
        "print(len(data))\n",
        "print(data)"
      ],
      "metadata": {
        "colab": {
          "base_uri": "https://localhost:8080/"
        },
        "id": "EBzVGwLg8W1A",
        "outputId": "1ad06912-0038-4e55-a7b2-7006d3c0e648"
      },
      "execution_count": null,
      "outputs": [
        {
          "output_type": "stream",
          "name": "stdout",
          "text": [
            "87\n",
            "                                   folder  label\n",
            "0   BBS1/425-1-3_OS_V_2x2_0_RegAvg0000021    0.0\n",
            "1     WT/183-2-8_OS_V_2x2_0_RegAvg0000009    1.0\n",
            "2     WT/439-1-2_OS_V_2x2_0_RegAvg0000023    1.0\n",
            "3     WT/427-1-8_OS_V_2X2_0_REGAVG0000023    1.0\n",
            "4     WT/202-1-6_OS_V_2x2_0_RegAvg0000024    1.0\n",
            "..                                    ...    ...\n",
            "82    WT/427-1-6_OS_V_2X2_0_REGAVG0000023    1.0\n",
            "83  BBS1/502-1-1_OS_V_2x2_0_RegAvg0000023    0.0\n",
            "84    WT/446-1-2_OS_V_2x2_0_RegAvg0000016    1.0\n",
            "85    WT/439-1-1_OS_V_2x2_0_RegAvg0000023    1.0\n",
            "86    WT/315-1-5_OS_V_2x2_0_RegAvg0000023    1.0\n",
            "\n",
            "[87 rows x 2 columns]\n"
          ]
        }
      ]
    },
    {
      "cell_type": "code",
      "source": [
        "from google.colab.patches import cv2_imshow\n",
        "frame_no=\"Frame_10.JPG\"\n",
        "images=\"Images\"\n",
        "image_path=os.path.join(data.iloc[0,0],\"Images\",frame_no)\n",
        "image_path2=os.path.join(data.iloc[1,0],\"Images\",frame_no)\n",
        "image=cv.imread(image_path)\n",
        "image2=cv.imread(image_path2)\n",
        "image=cv.resize(image,(224,224))\n",
        "image2=cv.resize(image2,(224,224))\n",
        "print(image.shape)\n",
        "cv2_imshow(image)\n",
        "cv2_imshow(image2)"
      ],
      "metadata": {
        "colab": {
          "base_uri": "https://localhost:8080/",
          "height": 482
        },
        "id": "egBINhqI8fUZ",
        "outputId": "b79b2935-1d09-4a6a-c9f3-8d0e4d71e40b"
      },
      "execution_count": null,
      "outputs": [
        {
          "output_type": "stream",
          "name": "stdout",
          "text": [
            "(224, 224, 3)\n"
          ]
        },
        {
          "output_type": "display_data",
          "data": {
            "text/plain": [
              "<PIL.Image.Image image mode=RGB size=224x224 at 0x7FD759D43D60>"
            ],
            "image/png": "[encoded data removed]"
          },
          "metadata": {}
        },
        {
          "output_type": "display_data",
          "data": {
            "text/plain": [
              "<PIL.Image.Image image mode=RGB size=224x224 at 0x7FD759CF51F0>"
            ],
            "image/png": "[encoded data removed]"
          },
          "metadata": {}
        }
      ]
    },
    {
      "cell_type": "code",
      "source": [
        "frame_no=[]\n",
        "for i in range(5,100,12):\n",
        "  frame_no.append(f\"Frame_{i}.JPG\")\n",
        "#print(frame_no)\n",
        "image_path=os.path.join(data.iloc[0,0],\"Images\",frame_no[0])\n",
        "image=cv.imread(image_path)\n",
        "image=th.tensor(cv.resize(image,(224,224)))\n",
        "image=image.permute(2,0,1)\n",
        "img=image\n",
        "for i in range(1,len(frame_no)):\n",
        "  image_path=os.path.join(data.iloc[0,0],\"Images\",frame_no[i])\n",
        "  image=cv.imread(image_path)\n",
        "  image=th.tensor(cv.resize(image,(224,224)))\n",
        "  image=image.permute(2,0,1)\n",
        "  img=th.cat((img,image),axis=0)\n",
        "print(img.shape)\n",
        "target=th.tensor(data.iloc[0,1])\n",
        "print(target)"
      ],
      "metadata": {
        "colab": {
          "base_uri": "https://localhost:8080/"
        },
        "id": "dv35rsMtM8QD",
        "outputId": "290f97f7-8653-4bd4-ea2c-6143953fb5f5"
      },
      "execution_count": null,
      "outputs": [
        {
          "output_type": "stream",
          "name": "stdout",
          "text": [
            "torch.Size([24, 224, 224])\n",
            "tensor(0., dtype=torch.float64)\n"
          ]
        }
      ]
    },
    {
      "cell_type": "code",
      "source": [
        "from torch.utils.data import TensorDataset, DataLoader, Dataset\n",
        "class ImageData(Dataset):\n",
        "    def __init__(self, df):\n",
        "        super(DataLoader).__init__()\n",
        "        self.df = df\n",
        "        self.normalize = transform.Normalize(mean=[0.485, 0.456, 0.406],\n",
        "                                 std=[0.229, 0.224, 0.225])\n",
        "    def __len__(self): return len(self.df)\n",
        "    def __getitem__(self, ix):\n",
        "        frame_no=[]\n",
        "        for i in range(5,100,12):\n",
        "          frame_no.append(f\"Frame_{i}.JPG\")\n",
        "        image_path=os.path.join(self.df.iloc[ix,0],\"Images\",frame_no[0])\n",
        "        image=cv.imread(image_path)\n",
        "        image=(cv.resize(image,(299,299)))\n",
        "        image=image/np.max(image)\n",
        "        image=th.tensor(image)\n",
        "        image=image.permute(2,0,1)\n",
        "        image=self.normalize(image)\n",
        "        img=image\n",
        "        for i in range(1,len(frame_no)):\n",
        "          image_path=os.path.join(self.df.iloc[ix,0],\"Images\",frame_no[i])\n",
        "          image=cv.imread(image_path)\n",
        "          image=(cv.resize(image,(299,299)))\n",
        "          image=image/np.max(image)\n",
        "          image=th.tensor(image)\n",
        "          image=image.permute(2,0,1)\n",
        "          image=self.normalize(image)\n",
        "          img=th.cat((img,image),axis=0)\n",
        "        target=self.df.iloc[ix,1]\n",
        "        return img.float().to(device),th.tensor([target]).float().to(device)\n"
      ],
      "metadata": {
        "id": "pIMtyaMfVfqF"
      },
      "execution_count": null,
      "outputs": []
    },
    {
      "cell_type": "code",
      "source": [
        "\n"
      ],
      "metadata": {
        "id": "v1UJasrEOTJ6"
      },
      "execution_count": null,
      "outputs": []
    },
    {
      "cell_type": "code",
      "source": [
        "from sklearn.model_selection import train_test_split\n",
        "train, test = train_test_split(data, test_size=0.2)\n",
        "train_dataset = ImageData(train.reset_index(drop=True))\n",
        "test_dataset = ImageData(test.reset_index(drop=True))\n",
        "train_loader = DataLoader(train_dataset, batch_size=3)\n",
        "test_loader = DataLoader(test_dataset, batch_size=3)"
      ],
      "metadata": {
        "id": "s3z0OS12kfyy"
      },
      "execution_count": null,
      "outputs": []
    },
    {
      "cell_type": "code",
      "source": [
        "class InceptionModel(nn.Module):\n",
        " def __init__(self,num_classes):\n",
        "    super(InceptionModel,self).__init__()\n",
        "    self.outputClasses=num_classes\n",
        " def getmodel(self):\n",
        "    weights=torchvision.models.Inception_V3_Weights.IMAGENET1K_V1\n",
        "    model=torchvision.models.inception_v3(weights)\n",
        "    model.aux_logits = False\n",
        "    #The weights of the pretrained models are not trainable\n",
        "    for params in model.parameters():\n",
        "      params.require_grad=False\n",
        "    model.fc=nn.Sequential(\n",
        "        nn.Linear(model.fc.in_features, 2000),\n",
        "        nn.ReLU(),\n",
        "        nn.Dropout(0.4),\n",
        "        nn.Linear(2000,1000),\n",
        "        nn.ReLU(),\n",
        "        nn.Dropout(0.3),\n",
        "        nn.Linear(1000,500),\n",
        "        nn.ReLU(),\n",
        "        nn.Dropout(0.4),\n",
        "        nn.Linear(500,250),\n",
        "        nn.ReLU(),\n",
        "        nn.Linear(250,1)\n",
        "    )\n",
        "    return model"
      ],
      "metadata": {
        "id": "vI69zduWztqf"
      },
      "execution_count": null,
      "outputs": []
    },
    {
      "cell_type": "code",
      "source": [
        "from torchsummary import summary\n",
        "inception=InceptionModel(2)\n",
        "model=inception.getmodel()\n",
        "summary(model,(24,224,224))"
      ],
      "metadata": {
        "colab": {
          "base_uri": "https://localhost:8080/"
        },
        "id": "aDcPuYdgOO3F",
        "outputId": "159467c3-abc8-48fd-fec2-0c8429ba8815"
      },
      "execution_count": null,
      "outputs": [
        {
          "output_type": "stream",
          "name": "stderr",
          "text": [
            "/usr/local/lib/python3.8/dist-packages/torchvision/models/_utils.py:135: UserWarning: Using 'weights' as positional parameter(s) is deprecated since 0.13 and may be removed in the future. Please use keyword parameter(s) instead.\n",
            "  warnings.warn(\n"
          ]
        },
        {
          "output_type": "stream",
          "name": "stdout",
          "text": [
            "==========================================================================================\n",
            "Layer (type:depth-idx)                   Output Shape              Param #\n",
            "==========================================================================================\n",
            "├─BasicConv2d: 1-1                       [-1, 32, 111, 111]        --\n",
            "|    └─Conv2d: 2-1                       [-1, 32, 111, 111]        864\n",
            "|    └─BatchNorm2d: 2-2                  [-1, 32, 111, 111]        64\n",
            "├─BasicConv2d: 1-2                       [-1, 32, 109, 109]        --\n",
            "|    └─Conv2d: 2-3                       [-1, 32, 109, 109]        9,216\n",
            "|    └─BatchNorm2d: 2-4                  [-1, 32, 109, 109]        64\n",
            "├─BasicConv2d: 1-3                       [-1, 64, 109, 109]        --\n",
            "|    └─Conv2d: 2-5                       [-1, 64, 109, 109]        18,432\n",
            "|    └─BatchNorm2d: 2-6                  [-1, 64, 109, 109]        128\n",
            "├─MaxPool2d: 1-4                         [-1, 64, 54, 54]          --\n",
            "├─BasicConv2d: 1-5                       [-1, 80, 54, 54]          --\n",
            "|    └─Conv2d: 2-7                       [-1, 80, 54, 54]          5,120\n",
            "|    └─BatchNorm2d: 2-8                  [-1, 80, 54, 54]          160\n",
            "├─BasicConv2d: 1-6                       [-1, 192, 52, 52]         --\n",
            "|    └─Conv2d: 2-9                       [-1, 192, 52, 52]         138,240\n",
            "|    └─BatchNorm2d: 2-10                 [-1, 192, 52, 52]         384\n",
            "├─MaxPool2d: 1-7                         [-1, 192, 25, 25]         --\n",
            "├─InceptionA: 1-8                        [-1, 256, 25, 25]         --\n",
            "|    └─BasicConv2d: 2-11                 [-1, 64, 25, 25]          --\n",
            "|    |    └─Conv2d: 3-1                  [-1, 64, 25, 25]          12,288\n",
            "|    |    └─BatchNorm2d: 3-2             [-1, 64, 25, 25]          128\n",
            "|    └─BasicConv2d: 2-12                 [-1, 48, 25, 25]          --\n",
            "|    |    └─Conv2d: 3-3                  [-1, 48, 25, 25]          9,216\n",
            "|    |    └─BatchNorm2d: 3-4             [-1, 48, 25, 25]          96\n",
            "|    └─BasicConv2d: 2-13                 [-1, 64, 25, 25]          --\n",
            "|    |    └─Conv2d: 3-5                  [-1, 64, 25, 25]          76,800\n",
            "|    |    └─BatchNorm2d: 3-6             [-1, 64, 25, 25]          128\n",
            "|    └─BasicConv2d: 2-14                 [-1, 64, 25, 25]          --\n",
            "|    |    └─Conv2d: 3-7                  [-1, 64, 25, 25]          12,288\n",
            "|    |    └─BatchNorm2d: 3-8             [-1, 64, 25, 25]          128\n",
            "|    └─BasicConv2d: 2-15                 [-1, 96, 25, 25]          --\n",
            "|    |    └─Conv2d: 3-9                  [-1, 96, 25, 25]          55,296\n",
            "|    |    └─BatchNorm2d: 3-10            [-1, 96, 25, 25]          192\n",
            "|    └─BasicConv2d: 2-16                 [-1, 96, 25, 25]          --\n",
            "|    |    └─Conv2d: 3-11                 [-1, 96, 25, 25]          82,944\n",
            "|    |    └─BatchNorm2d: 3-12            [-1, 96, 25, 25]          192\n",
            "|    └─BasicConv2d: 2-17                 [-1, 32, 25, 25]          --\n",
            "|    |    └─Conv2d: 3-13                 [-1, 32, 25, 25]          6,144\n",
            "|    |    └─BatchNorm2d: 3-14            [-1, 32, 25, 25]          64\n",
            "├─InceptionA: 1-9                        [-1, 288, 25, 25]         --\n",
            "|    └─BasicConv2d: 2-18                 [-1, 64, 25, 25]          --\n",
            "|    |    └─Conv2d: 3-15                 [-1, 64, 25, 25]          16,384\n",
            "|    |    └─BatchNorm2d: 3-16            [-1, 64, 25, 25]          128\n",
            "|    └─BasicConv2d: 2-19                 [-1, 48, 25, 25]          --\n",
            "|    |    └─Conv2d: 3-17                 [-1, 48, 25, 25]          12,288\n",
            "|    |    └─BatchNorm2d: 3-18            [-1, 48, 25, 25]          96\n",
            "|    └─BasicConv2d: 2-20                 [-1, 64, 25, 25]          --\n",
            "|    |    └─Conv2d: 3-19                 [-1, 64, 25, 25]          76,800\n",
            "|    |    └─BatchNorm2d: 3-20            [-1, 64, 25, 25]          128\n",
            "|    └─BasicConv2d: 2-21                 [-1, 64, 25, 25]          --\n",
            "|    |    └─Conv2d: 3-21                 [-1, 64, 25, 25]          16,384\n",
            "|    |    └─BatchNorm2d: 3-22            [-1, 64, 25, 25]          128\n",
            "|    └─BasicConv2d: 2-22                 [-1, 96, 25, 25]          --\n",
            "|    |    └─Conv2d: 3-23                 [-1, 96, 25, 25]          55,296\n",
            "|    |    └─BatchNorm2d: 3-24            [-1, 96, 25, 25]          192\n",
            "|    └─BasicConv2d: 2-23                 [-1, 96, 25, 25]          --\n",
            "|    |    └─Conv2d: 3-25                 [-1, 96, 25, 25]          82,944\n",
            "|    |    └─BatchNorm2d: 3-26            [-1, 96, 25, 25]          192\n",
            "|    └─BasicConv2d: 2-24                 [-1, 64, 25, 25]          --\n",
            "|    |    └─Conv2d: 3-27                 [-1, 64, 25, 25]          16,384\n",
            "|    |    └─BatchNorm2d: 3-28            [-1, 64, 25, 25]          128\n",
            "├─InceptionA: 1-10                       [-1, 288, 25, 25]         --\n",
            "|    └─BasicConv2d: 2-25                 [-1, 64, 25, 25]          --\n",
            "|    |    └─Conv2d: 3-29                 [-1, 64, 25, 25]          18,432\n",
            "|    |    └─BatchNorm2d: 3-30            [-1, 64, 25, 25]          128\n",
            "|    └─BasicConv2d: 2-26                 [-1, 48, 25, 25]          --\n",
            "|    |    └─Conv2d: 3-31                 [-1, 48, 25, 25]          13,824\n",
            "|    |    └─BatchNorm2d: 3-32            [-1, 48, 25, 25]          96\n",
            "|    └─BasicConv2d: 2-27                 [-1, 64, 25, 25]          --\n",
            "|    |    └─Conv2d: 3-33                 [-1, 64, 25, 25]          76,800\n",
            "|    |    └─BatchNorm2d: 3-34            [-1, 64, 25, 25]          128\n",
            "|    └─BasicConv2d: 2-28                 [-1, 64, 25, 25]          --\n",
            "|    |    └─Conv2d: 3-35                 [-1, 64, 25, 25]          18,432\n",
            "|    |    └─BatchNorm2d: 3-36            [-1, 64, 25, 25]          128\n",
            "|    └─BasicConv2d: 2-29                 [-1, 96, 25, 25]          --\n",
            "|    |    └─Conv2d: 3-37                 [-1, 96, 25, 25]          55,296\n",
            "|    |    └─BatchNorm2d: 3-38            [-1, 96, 25, 25]          192\n",
            "|    └─BasicConv2d: 2-30                 [-1, 96, 25, 25]          --\n",
            "|    |    └─Conv2d: 3-39                 [-1, 96, 25, 25]          82,944\n",
            "|    |    └─BatchNorm2d: 3-40            [-1, 96, 25, 25]          192\n",
            "|    └─BasicConv2d: 2-31                 [-1, 64, 25, 25]          --\n",
            "|    |    └─Conv2d: 3-41                 [-1, 64, 25, 25]          18,432\n",
            "|    |    └─BatchNorm2d: 3-42            [-1, 64, 25, 25]          128\n",
            "├─InceptionB: 1-11                       [-1, 768, 12, 12]         --\n",
            "|    └─BasicConv2d: 2-32                 [-1, 384, 12, 12]         --\n",
            "|    |    └─Conv2d: 3-43                 [-1, 384, 12, 12]         995,328\n",
            "|    |    └─BatchNorm2d: 3-44            [-1, 384, 12, 12]         768\n",
            "|    └─BasicConv2d: 2-33                 [-1, 64, 25, 25]          --\n",
            "|    |    └─Conv2d: 3-45                 [-1, 64, 25, 25]          18,432\n",
            "|    |    └─BatchNorm2d: 3-46            [-1, 64, 25, 25]          128\n",
            "|    └─BasicConv2d: 2-34                 [-1, 96, 25, 25]          --\n",
            "|    |    └─Conv2d: 3-47                 [-1, 96, 25, 25]          55,296\n",
            "|    |    └─BatchNorm2d: 3-48            [-1, 96, 25, 25]          192\n",
            "|    └─BasicConv2d: 2-35                 [-1, 96, 12, 12]          --\n",
            "|    |    └─Conv2d: 3-49                 [-1, 96, 12, 12]          82,944\n",
            "|    |    └─BatchNorm2d: 3-50            [-1, 96, 12, 12]          192\n",
            "├─InceptionC: 1-12                       [-1, 768, 12, 12]         --\n",
            "|    └─BasicConv2d: 2-36                 [-1, 192, 12, 12]         --\n",
            "|    |    └─Conv2d: 3-51                 [-1, 192, 12, 12]         147,456\n",
            "|    |    └─BatchNorm2d: 3-52            [-1, 192, 12, 12]         384\n",
            "|    └─BasicConv2d: 2-37                 [-1, 128, 12, 12]         --\n",
            "|    |    └─Conv2d: 3-53                 [-1, 128, 12, 12]         98,304\n",
            "|    |    └─BatchNorm2d: 3-54            [-1, 128, 12, 12]         256\n",
            "|    └─BasicConv2d: 2-38                 [-1, 128, 12, 12]         --\n",
            "|    |    └─Conv2d: 3-55                 [-1, 128, 12, 12]         114,688\n",
            "|    |    └─BatchNorm2d: 3-56            [-1, 128, 12, 12]         256\n",
            "|    └─BasicConv2d: 2-39                 [-1, 192, 12, 12]         --\n",
            "|    |    └─Conv2d: 3-57                 [-1, 192, 12, 12]         172,032\n",
            "|    |    └─BatchNorm2d: 3-58            [-1, 192, 12, 12]         384\n",
            "|    └─BasicConv2d: 2-40                 [-1, 128, 12, 12]         --\n",
            "|    |    └─Conv2d: 3-59                 [-1, 128, 12, 12]         98,304\n",
            "|    |    └─BatchNorm2d: 3-60            [-1, 128, 12, 12]         256\n",
            "|    └─BasicConv2d: 2-41                 [-1, 128, 12, 12]         --\n",
            "|    |    └─Conv2d: 3-61                 [-1, 128, 12, 12]         114,688\n",
            "|    |    └─BatchNorm2d: 3-62            [-1, 128, 12, 12]         256\n",
            "|    └─BasicConv2d: 2-42                 [-1, 128, 12, 12]         --\n",
            "|    |    └─Conv2d: 3-63                 [-1, 128, 12, 12]         114,688\n",
            "|    |    └─BatchNorm2d: 3-64            [-1, 128, 12, 12]         256\n",
            "|    └─BasicConv2d: 2-43                 [-1, 128, 12, 12]         --\n",
            "|    |    └─Conv2d: 3-65                 [-1, 128, 12, 12]         114,688\n",
            "|    |    └─BatchNorm2d: 3-66            [-1, 128, 12, 12]         256\n",
            "|    └─BasicConv2d: 2-44                 [-1, 192, 12, 12]         --\n",
            "|    |    └─Conv2d: 3-67                 [-1, 192, 12, 12]         172,032\n",
            "|    |    └─BatchNorm2d: 3-68            [-1, 192, 12, 12]         384\n",
            "|    └─BasicConv2d: 2-45                 [-1, 192, 12, 12]         --\n",
            "|    |    └─Conv2d: 3-69                 [-1, 192, 12, 12]         147,456\n",
            "|    |    └─BatchNorm2d: 3-70            [-1, 192, 12, 12]         384\n",
            "├─InceptionC: 1-13                       [-1, 768, 12, 12]         --\n",
            "|    └─BasicConv2d: 2-46                 [-1, 192, 12, 12]         --\n",
            "|    |    └─Conv2d: 3-71                 [-1, 192, 12, 12]         147,456\n",
            "|    |    └─BatchNorm2d: 3-72            [-1, 192, 12, 12]         384\n",
            "|    └─BasicConv2d: 2-47                 [-1, 160, 12, 12]         --\n",
            "|    |    └─Conv2d: 3-73                 [-1, 160, 12, 12]         122,880\n",
            "|    |    └─BatchNorm2d: 3-74            [-1, 160, 12, 12]         320\n",
            "|    └─BasicConv2d: 2-48                 [-1, 160, 12, 12]         --\n",
            "|    |    └─Conv2d: 3-75                 [-1, 160, 12, 12]         179,200\n",
            "|    |    └─BatchNorm2d: 3-76            [-1, 160, 12, 12]         320\n",
            "|    └─BasicConv2d: 2-49                 [-1, 192, 12, 12]         --\n",
            "|    |    └─Conv2d: 3-77                 [-1, 192, 12, 12]         215,040\n",
            "|    |    └─BatchNorm2d: 3-78            [-1, 192, 12, 12]         384\n",
            "|    └─BasicConv2d: 2-50                 [-1, 160, 12, 12]         --\n",
            "|    |    └─Conv2d: 3-79                 [-1, 160, 12, 12]         122,880\n",
            "|    |    └─BatchNorm2d: 3-80            [-1, 160, 12, 12]         320\n",
            "|    └─BasicConv2d: 2-51                 [-1, 160, 12, 12]         --\n",
            "|    |    └─Conv2d: 3-81                 [-1, 160, 12, 12]         179,200\n",
            "|    |    └─BatchNorm2d: 3-82            [-1, 160, 12, 12]         320\n",
            "|    └─BasicConv2d: 2-52                 [-1, 160, 12, 12]         --\n",
            "|    |    └─Conv2d: 3-83                 [-1, 160, 12, 12]         179,200\n",
            "|    |    └─BatchNorm2d: 3-84            [-1, 160, 12, 12]         320\n",
            "|    └─BasicConv2d: 2-53                 [-1, 160, 12, 12]         --\n",
            "|    |    └─Conv2d: 3-85                 [-1, 160, 12, 12]         179,200\n",
            "|    |    └─BatchNorm2d: 3-86            [-1, 160, 12, 12]         320\n",
            "|    └─BasicConv2d: 2-54                 [-1, 192, 12, 12]         --\n",
            "|    |    └─Conv2d: 3-87                 [-1, 192, 12, 12]         215,040\n",
            "|    |    └─BatchNorm2d: 3-88            [-1, 192, 12, 12]         384\n",
            "|    └─BasicConv2d: 2-55                 [-1, 192, 12, 12]         --\n",
            "|    |    └─Conv2d: 3-89                 [-1, 192, 12, 12]         147,456\n",
            "|    |    └─BatchNorm2d: 3-90            [-1, 192, 12, 12]         384\n",
            "├─InceptionC: 1-14                       [-1, 768, 12, 12]         --\n",
            "|    └─BasicConv2d: 2-56                 [-1, 192, 12, 12]         --\n",
            "|    |    └─Conv2d: 3-91                 [-1, 192, 12, 12]         147,456\n",
            "|    |    └─BatchNorm2d: 3-92            [-1, 192, 12, 12]         384\n",
            "|    └─BasicConv2d: 2-57                 [-1, 160, 12, 12]         --\n",
            "|    |    └─Conv2d: 3-93                 [-1, 160, 12, 12]         122,880\n",
            "|    |    └─BatchNorm2d: 3-94            [-1, 160, 12, 12]         320\n",
            "|    └─BasicConv2d: 2-58                 [-1, 160, 12, 12]         --\n",
            "|    |    └─Conv2d: 3-95                 [-1, 160, 12, 12]         179,200\n",
            "|    |    └─BatchNorm2d: 3-96            [-1, 160, 12, 12]         320\n",
            "|    └─BasicConv2d: 2-59                 [-1, 192, 12, 12]         --\n",
            "|    |    └─Conv2d: 3-97                 [-1, 192, 12, 12]         215,040\n",
            "|    |    └─BatchNorm2d: 3-98            [-1, 192, 12, 12]         384\n",
            "|    └─BasicConv2d: 2-60                 [-1, 160, 12, 12]         --\n",
            "|    |    └─Conv2d: 3-99                 [-1, 160, 12, 12]         122,880\n",
            "|    |    └─BatchNorm2d: 3-100           [-1, 160, 12, 12]         320\n",
            "|    └─BasicConv2d: 2-61                 [-1, 160, 12, 12]         --\n",
            "|    |    └─Conv2d: 3-101                [-1, 160, 12, 12]         179,200\n",
            "|    |    └─BatchNorm2d: 3-102           [-1, 160, 12, 12]         320\n",
            "|    └─BasicConv2d: 2-62                 [-1, 160, 12, 12]         --\n",
            "|    |    └─Conv2d: 3-103                [-1, 160, 12, 12]         179,200\n",
            "|    |    └─BatchNorm2d: 3-104           [-1, 160, 12, 12]         320\n",
            "|    └─BasicConv2d: 2-63                 [-1, 160, 12, 12]         --\n",
            "|    |    └─Conv2d: 3-105                [-1, 160, 12, 12]         179,200\n",
            "|    |    └─BatchNorm2d: 3-106           [-1, 160, 12, 12]         320\n",
            "|    └─BasicConv2d: 2-64                 [-1, 192, 12, 12]         --\n",
            "|    |    └─Conv2d: 3-107                [-1, 192, 12, 12]         215,040\n",
            "|    |    └─BatchNorm2d: 3-108           [-1, 192, 12, 12]         384\n",
            "|    └─BasicConv2d: 2-65                 [-1, 192, 12, 12]         --\n",
            "|    |    └─Conv2d: 3-109                [-1, 192, 12, 12]         147,456\n",
            "|    |    └─BatchNorm2d: 3-110           [-1, 192, 12, 12]         384\n",
            "├─InceptionC: 1-15                       [-1, 768, 12, 12]         --\n",
            "|    └─BasicConv2d: 2-66                 [-1, 192, 12, 12]         --\n",
            "|    |    └─Conv2d: 3-111                [-1, 192, 12, 12]         147,456\n",
            "|    |    └─BatchNorm2d: 3-112           [-1, 192, 12, 12]         384\n",
            "|    └─BasicConv2d: 2-67                 [-1, 192, 12, 12]         --\n",
            "|    |    └─Conv2d: 3-113                [-1, 192, 12, 12]         147,456\n",
            "|    |    └─BatchNorm2d: 3-114           [-1, 192, 12, 12]         384\n",
            "|    └─BasicConv2d: 2-68                 [-1, 192, 12, 12]         --\n",
            "|    |    └─Conv2d: 3-115                [-1, 192, 12, 12]         258,048\n",
            "|    |    └─BatchNorm2d: 3-116           [-1, 192, 12, 12]         384\n",
            "|    └─BasicConv2d: 2-69                 [-1, 192, 12, 12]         --\n",
            "|    |    └─Conv2d: 3-117                [-1, 192, 12, 12]         258,048\n",
            "|    |    └─BatchNorm2d: 3-118           [-1, 192, 12, 12]         384\n",
            "|    └─BasicConv2d: 2-70                 [-1, 192, 12, 12]         --\n",
            "|    |    └─Conv2d: 3-119                [-1, 192, 12, 12]         147,456\n",
            "|    |    └─BatchNorm2d: 3-120           [-1, 192, 12, 12]         384\n",
            "|    └─BasicConv2d: 2-71                 [-1, 192, 12, 12]         --\n",
            "|    |    └─Conv2d: 3-121                [-1, 192, 12, 12]         258,048\n",
            "|    |    └─BatchNorm2d: 3-122           [-1, 192, 12, 12]         384\n",
            "|    └─BasicConv2d: 2-72                 [-1, 192, 12, 12]         --\n",
            "|    |    └─Conv2d: 3-123                [-1, 192, 12, 12]         258,048\n",
            "|    |    └─BatchNorm2d: 3-124           [-1, 192, 12, 12]         384\n",
            "|    └─BasicConv2d: 2-73                 [-1, 192, 12, 12]         --\n",
            "|    |    └─Conv2d: 3-125                [-1, 192, 12, 12]         258,048\n",
            "|    |    └─BatchNorm2d: 3-126           [-1, 192, 12, 12]         384\n",
            "|    └─BasicConv2d: 2-74                 [-1, 192, 12, 12]         --\n",
            "|    |    └─Conv2d: 3-127                [-1, 192, 12, 12]         258,048\n",
            "|    |    └─BatchNorm2d: 3-128           [-1, 192, 12, 12]         384\n",
            "|    └─BasicConv2d: 2-75                 [-1, 192, 12, 12]         --\n",
            "|    |    └─Conv2d: 3-129                [-1, 192, 12, 12]         147,456\n",
            "|    |    └─BatchNorm2d: 3-130           [-1, 192, 12, 12]         384\n",
            "├─InceptionD: 1-16                       [-1, 1280, 5, 5]          --\n",
            "|    └─BasicConv2d: 2-76                 [-1, 192, 12, 12]         --\n",
            "|    |    └─Conv2d: 3-131                [-1, 192, 12, 12]         147,456\n",
            "|    |    └─BatchNorm2d: 3-132           [-1, 192, 12, 12]         384\n",
            "|    └─BasicConv2d: 2-77                 [-1, 320, 5, 5]           --\n",
            "|    |    └─Conv2d: 3-133                [-1, 320, 5, 5]           552,960\n",
            "|    |    └─BatchNorm2d: 3-134           [-1, 320, 5, 5]           640\n",
            "|    └─BasicConv2d: 2-78                 [-1, 192, 12, 12]         --\n",
            "|    |    └─Conv2d: 3-135                [-1, 192, 12, 12]         147,456\n",
            "|    |    └─BatchNorm2d: 3-136           [-1, 192, 12, 12]         384\n",
            "|    └─BasicConv2d: 2-79                 [-1, 192, 12, 12]         --\n",
            "|    |    └─Conv2d: 3-137                [-1, 192, 12, 12]         258,048\n",
            "|    |    └─BatchNorm2d: 3-138           [-1, 192, 12, 12]         384\n",
            "|    └─BasicConv2d: 2-80                 [-1, 192, 12, 12]         --\n",
            "|    |    └─Conv2d: 3-139                [-1, 192, 12, 12]         258,048\n",
            "|    |    └─BatchNorm2d: 3-140           [-1, 192, 12, 12]         384\n",
            "|    └─BasicConv2d: 2-81                 [-1, 192, 5, 5]           --\n",
            "|    |    └─Conv2d: 3-141                [-1, 192, 5, 5]           331,776\n",
            "|    |    └─BatchNorm2d: 3-142           [-1, 192, 5, 5]           384\n",
            "├─InceptionE: 1-17                       [-1, 2048, 5, 5]          --\n",
            "|    └─BasicConv2d: 2-82                 [-1, 320, 5, 5]           --\n",
            "|    |    └─Conv2d: 3-143                [-1, 320, 5, 5]           409,600\n",
            "|    |    └─BatchNorm2d: 3-144           [-1, 320, 5, 5]           640\n",
            "|    └─BasicConv2d: 2-83                 [-1, 384, 5, 5]           --\n",
            "|    |    └─Conv2d: 3-145                [-1, 384, 5, 5]           491,520\n",
            "|    |    └─BatchNorm2d: 3-146           [-1, 384, 5, 5]           768\n",
            "|    └─BasicConv2d: 2-84                 [-1, 384, 5, 5]           --\n",
            "|    |    └─Conv2d: 3-147                [-1, 384, 5, 5]           442,368\n",
            "|    |    └─BatchNorm2d: 3-148           [-1, 384, 5, 5]           768\n",
            "|    └─BasicConv2d: 2-85                 [-1, 384, 5, 5]           --\n",
            "|    |    └─Conv2d: 3-149                [-1, 384, 5, 5]           442,368\n",
            "|    |    └─BatchNorm2d: 3-150           [-1, 384, 5, 5]           768\n",
            "|    └─BasicConv2d: 2-86                 [-1, 448, 5, 5]           --\n",
            "|    |    └─Conv2d: 3-151                [-1, 448, 5, 5]           573,440\n",
            "|    |    └─BatchNorm2d: 3-152           [-1, 448, 5, 5]           896\n",
            "|    └─BasicConv2d: 2-87                 [-1, 384, 5, 5]           --\n",
            "|    |    └─Conv2d: 3-153                [-1, 384, 5, 5]           1,548,288\n",
            "|    |    └─BatchNorm2d: 3-154           [-1, 384, 5, 5]           768\n",
            "|    └─BasicConv2d: 2-88                 [-1, 384, 5, 5]           --\n",
            "|    |    └─Conv2d: 3-155                [-1, 384, 5, 5]           442,368\n",
            "|    |    └─BatchNorm2d: 3-156           [-1, 384, 5, 5]           768\n",
            "|    └─BasicConv2d: 2-89                 [-1, 384, 5, 5]           --\n",
            "|    |    └─Conv2d: 3-157                [-1, 384, 5, 5]           442,368\n",
            "|    |    └─BatchNorm2d: 3-158           [-1, 384, 5, 5]           768\n",
            "|    └─BasicConv2d: 2-90                 [-1, 192, 5, 5]           --\n",
            "|    |    └─Conv2d: 3-159                [-1, 192, 5, 5]           245,760\n",
            "|    |    └─BatchNorm2d: 3-160           [-1, 192, 5, 5]           384\n",
            "├─InceptionE: 1-18                       [-1, 2048, 5, 5]          --\n",
            "|    └─BasicConv2d: 2-91                 [-1, 320, 5, 5]           --\n",
            "|    |    └─Conv2d: 3-161                [-1, 320, 5, 5]           655,360\n",
            "|    |    └─BatchNorm2d: 3-162           [-1, 320, 5, 5]           640\n",
            "|    └─BasicConv2d: 2-92                 [-1, 384, 5, 5]           --\n",
            "|    |    └─Conv2d: 3-163                [-1, 384, 5, 5]           786,432\n",
            "|    |    └─BatchNorm2d: 3-164           [-1, 384, 5, 5]           768\n",
            "|    └─BasicConv2d: 2-93                 [-1, 384, 5, 5]           --\n",
            "|    |    └─Conv2d: 3-165                [-1, 384, 5, 5]           442,368\n",
            "|    |    └─BatchNorm2d: 3-166           [-1, 384, 5, 5]           768\n",
            "|    └─BasicConv2d: 2-94                 [-1, 384, 5, 5]           --\n",
            "|    |    └─Conv2d: 3-167                [-1, 384, 5, 5]           442,368\n",
            "|    |    └─BatchNorm2d: 3-168           [-1, 384, 5, 5]           768\n",
            "|    └─BasicConv2d: 2-95                 [-1, 448, 5, 5]           --\n",
            "|    |    └─Conv2d: 3-169                [-1, 448, 5, 5]           917,504\n",
            "|    |    └─BatchNorm2d: 3-170           [-1, 448, 5, 5]           896\n",
            "|    └─BasicConv2d: 2-96                 [-1, 384, 5, 5]           --\n",
            "|    |    └─Conv2d: 3-171                [-1, 384, 5, 5]           1,548,288\n",
            "|    |    └─BatchNorm2d: 3-172           [-1, 384, 5, 5]           768\n",
            "|    └─BasicConv2d: 2-97                 [-1, 384, 5, 5]           --\n",
            "|    |    └─Conv2d: 3-173                [-1, 384, 5, 5]           442,368\n",
            "|    |    └─BatchNorm2d: 3-174           [-1, 384, 5, 5]           768\n",
            "|    └─BasicConv2d: 2-98                 [-1, 384, 5, 5]           --\n",
            "|    |    └─Conv2d: 3-175                [-1, 384, 5, 5]           442,368\n",
            "|    |    └─BatchNorm2d: 3-176           [-1, 384, 5, 5]           768\n",
            "|    └─BasicConv2d: 2-99                 [-1, 192, 5, 5]           --\n",
            "|    |    └─Conv2d: 3-177                [-1, 192, 5, 5]           393,216\n",
            "|    |    └─BatchNorm2d: 3-178           [-1, 192, 5, 5]           384\n",
            "├─AdaptiveAvgPool2d: 1-19                [-1, 2048, 1, 1]          --\n",
            "├─Dropout: 1-20                          [-1, 2048, 1, 1]          --\n",
            "├─Sequential: 1-21                       [-1, 1]                   --\n",
            "|    └─Linear: 2-100                     [-1, 2000]                4,098,000\n",
            "|    └─ReLU: 2-101                       [-1, 2000]                --\n",
            "|    └─Dropout: 2-102                    [-1, 2000]                --\n",
            "|    └─Linear: 2-103                     [-1, 1000]                2,001,000\n",
            "|    └─ReLU: 2-104                       [-1, 1000]                --\n",
            "|    └─Dropout: 2-105                    [-1, 1000]                --\n",
            "|    └─Linear: 2-106                     [-1, 500]                 500,500\n",
            "|    └─ReLU: 2-107                       [-1, 500]                 --\n",
            "|    └─Dropout: 2-108                    [-1, 500]                 --\n",
            "|    └─Linear: 2-109                     [-1, 250]                 125,250\n",
            "|    └─ReLU: 2-110                       [-1, 250]                 --\n",
            "|    └─Linear: 2-111                     [-1, 1]                   251\n",
            "==========================================================================================\n",
            "Total params: 28,510,569\n",
            "Trainable params: 28,510,569\n",
            "Non-trainable params: 0\n",
            "Total mult-adds (G): 2.89\n",
            "==========================================================================================\n",
            "Input size (MB): 4.59\n",
            "Forward/backward pass size (MB): 70.96\n",
            "Params size (MB): 108.76\n",
            "Estimated Total Size (MB): 184.31\n",
            "==========================================================================================\n"
          ]
        },
        {
          "output_type": "execute_result",
          "data": {
            "text/plain": [
              "==========================================================================================\n",
              "Layer (type:depth-idx)                   Output Shape              Param #\n",
              "==========================================================================================\n",
              "├─BasicConv2d: 1-1                       [-1, 32, 111, 111]        --\n",
              "|    └─Conv2d: 2-1                       [-1, 32, 111, 111]        864\n",
              "|    └─BatchNorm2d: 2-2                  [-1, 32, 111, 111]        64\n",
              "├─BasicConv2d: 1-2                       [-1, 32, 109, 109]        --\n",
              "|    └─Conv2d: 2-3                       [-1, 32, 109, 109]        9,216\n",
              "|    └─BatchNorm2d: 2-4                  [-1, 32, 109, 109]        64\n",
              "├─BasicConv2d: 1-3                       [-1, 64, 109, 109]        --\n",
              "|    └─Conv2d: 2-5                       [-1, 64, 109, 109]        18,432\n",
              "|    └─BatchNorm2d: 2-6                  [-1, 64, 109, 109]        128\n",
              "├─MaxPool2d: 1-4                         [-1, 64, 54, 54]          --\n",
              "├─BasicConv2d: 1-5                       [-1, 80, 54, 54]          --\n",
              "|    └─Conv2d: 2-7                       [-1, 80, 54, 54]          5,120\n",
              "|    └─BatchNorm2d: 2-8                  [-1, 80, 54, 54]          160\n",
              "├─BasicConv2d: 1-6                       [-1, 192, 52, 52]         --\n",
              "|    └─Conv2d: 2-9                       [-1, 192, 52, 52]         138,240\n",
              "|    └─BatchNorm2d: 2-10                 [-1, 192, 52, 52]         384\n",
              "├─MaxPool2d: 1-7                         [-1, 192, 25, 25]         --\n",
              "├─InceptionA: 1-8                        [-1, 256, 25, 25]         --\n",
              "|    └─BasicConv2d: 2-11                 [-1, 64, 25, 25]          --\n",
              "|    |    └─Conv2d: 3-1                  [-1, 64, 25, 25]          12,288\n",
              "|    |    └─BatchNorm2d: 3-2             [-1, 64, 25, 25]          128\n",
              "|    └─BasicConv2d: 2-12                 [-1, 48, 25, 25]          --\n",
              "|    |    └─Conv2d: 3-3                  [-1, 48, 25, 25]          9,216\n",
              "|    |    └─BatchNorm2d: 3-4             [-1, 48, 25, 25]          96\n",
              "|    └─BasicConv2d: 2-13                 [-1, 64, 25, 25]          --\n",
              "|    |    └─Conv2d: 3-5                  [-1, 64, 25, 25]          76,800\n",
              "|    |    └─BatchNorm2d: 3-6             [-1, 64, 25, 25]          128\n",
              "|    └─BasicConv2d: 2-14                 [-1, 64, 25, 25]          --\n",
              "|    |    └─Conv2d: 3-7                  [-1, 64, 25, 25]          12,288\n",
              "|    |    └─BatchNorm2d: 3-8             [-1, 64, 25, 25]          128\n",
              "|    └─BasicConv2d: 2-15                 [-1, 96, 25, 25]          --\n",
              "|    |    └─Conv2d: 3-9                  [-1, 96, 25, 25]          55,296\n",
              "|    |    └─BatchNorm2d: 3-10            [-1, 96, 25, 25]          192\n",
              "|    └─BasicConv2d: 2-16                 [-1, 96, 25, 25]          --\n",
              "|    |    └─Conv2d: 3-11                 [-1, 96, 25, 25]          82,944\n",
              "|    |    └─BatchNorm2d: 3-12            [-1, 96, 25, 25]          192\n",
              "|    └─BasicConv2d: 2-17                 [-1, 32, 25, 25]          --\n",
              "|    |    └─Conv2d: 3-13                 [-1, 32, 25, 25]          6,144\n",
              "|    |    └─BatchNorm2d: 3-14            [-1, 32, 25, 25]          64\n",
              "├─InceptionA: 1-9                        [-1, 288, 25, 25]         --\n",
              "|    └─BasicConv2d: 2-18                 [-1, 64, 25, 25]          --\n",
              "|    |    └─Conv2d: 3-15                 [-1, 64, 25, 25]          16,384\n",
              "|    |    └─BatchNorm2d: 3-16            [-1, 64, 25, 25]          128\n",
              "|    └─BasicConv2d: 2-19                 [-1, 48, 25, 25]          --\n",
              "|    |    └─Conv2d: 3-17                 [-1, 48, 25, 25]          12,288\n",
              "|    |    └─BatchNorm2d: 3-18            [-1, 48, 25, 25]          96\n",
              "|    └─BasicConv2d: 2-20                 [-1, 64, 25, 25]          --\n",
              "|    |    └─Conv2d: 3-19                 [-1, 64, 25, 25]          76,800\n",
              "|    |    └─BatchNorm2d: 3-20            [-1, 64, 25, 25]          128\n",
              "|    └─BasicConv2d: 2-21                 [-1, 64, 25, 25]          --\n",
              "|    |    └─Conv2d: 3-21                 [-1, 64, 25, 25]          16,384\n",
              "|    |    └─BatchNorm2d: 3-22            [-1, 64, 25, 25]          128\n",
              "|    └─BasicConv2d: 2-22                 [-1, 96, 25, 25]          --\n",
              "|    |    └─Conv2d: 3-23                 [-1, 96, 25, 25]          55,296\n",
              "|    |    └─BatchNorm2d: 3-24            [-1, 96, 25, 25]          192\n",
              "|    └─BasicConv2d: 2-23                 [-1, 96, 25, 25]          --\n",
              "|    |    └─Conv2d: 3-25                 [-1, 96, 25, 25]          82,944\n",
              "|    |    └─BatchNorm2d: 3-26            [-1, 96, 25, 25]          192\n",
              "|    └─BasicConv2d: 2-24                 [-1, 64, 25, 25]          --\n",
              "|    |    └─Conv2d: 3-27                 [-1, 64, 25, 25]          16,384\n",
              "|    |    └─BatchNorm2d: 3-28            [-1, 64, 25, 25]          128\n",
              "├─InceptionA: 1-10                       [-1, 288, 25, 25]         --\n",
              "|    └─BasicConv2d: 2-25                 [-1, 64, 25, 25]          --\n",
              "|    |    └─Conv2d: 3-29                 [-1, 64, 25, 25]          18,432\n",
              "|    |    └─BatchNorm2d: 3-30            [-1, 64, 25, 25]          128\n",
              "|    └─BasicConv2d: 2-26                 [-1, 48, 25, 25]          --\n",
              "|    |    └─Conv2d: 3-31                 [-1, 48, 25, 25]          13,824\n",
              "|    |    └─BatchNorm2d: 3-32            [-1, 48, 25, 25]          96\n",
              "|    └─BasicConv2d: 2-27                 [-1, 64, 25, 25]          --\n",
              "|    |    └─Conv2d: 3-33                 [-1, 64, 25, 25]          76,800\n",
              "|    |    └─BatchNorm2d: 3-34            [-1, 64, 25, 25]          128\n",
              "|    └─BasicConv2d: 2-28                 [-1, 64, 25, 25]          --\n",
              "|    |    └─Conv2d: 3-35                 [-1, 64, 25, 25]          18,432\n",
              "|    |    └─BatchNorm2d: 3-36            [-1, 64, 25, 25]          128\n",
              "|    └─BasicConv2d: 2-29                 [-1, 96, 25, 25]          --\n",
              "|    |    └─Conv2d: 3-37                 [-1, 96, 25, 25]          55,296\n",
              "|    |    └─BatchNorm2d: 3-38            [-1, 96, 25, 25]          192\n",
              "|    └─BasicConv2d: 2-30                 [-1, 96, 25, 25]          --\n",
              "|    |    └─Conv2d: 3-39                 [-1, 96, 25, 25]          82,944\n",
              "|    |    └─BatchNorm2d: 3-40            [-1, 96, 25, 25]          192\n",
              "|    └─BasicConv2d: 2-31                 [-1, 64, 25, 25]          --\n",
              "|    |    └─Conv2d: 3-41                 [-1, 64, 25, 25]          18,432\n",
              "|    |    └─BatchNorm2d: 3-42            [-1, 64, 25, 25]          128\n",
              "├─InceptionB: 1-11                       [-1, 768, 12, 12]         --\n",
              "|    └─BasicConv2d: 2-32                 [-1, 384, 12, 12]         --\n",
              "|    |    └─Conv2d: 3-43                 [-1, 384, 12, 12]         995,328\n",
              "|    |    └─BatchNorm2d: 3-44            [-1, 384, 12, 12]         768\n",
              "|    └─BasicConv2d: 2-33                 [-1, 64, 25, 25]          --\n",
              "|    |    └─Conv2d: 3-45                 [-1, 64, 25, 25]          18,432\n",
              "|    |    └─BatchNorm2d: 3-46            [-1, 64, 25, 25]          128\n",
              "|    └─BasicConv2d: 2-34                 [-1, 96, 25, 25]          --\n",
              "|    |    └─Conv2d: 3-47                 [-1, 96, 25, 25]          55,296\n",
              "|    |    └─BatchNorm2d: 3-48            [-1, 96, 25, 25]          192\n",
              "|    └─BasicConv2d: 2-35                 [-1, 96, 12, 12]          --\n",
              "|    |    └─Conv2d: 3-49                 [-1, 96, 12, 12]          82,944\n",
              "|    |    └─BatchNorm2d: 3-50            [-1, 96, 12, 12]          192\n",
              "├─InceptionC: 1-12                       [-1, 768, 12, 12]         --\n",
              "|    └─BasicConv2d: 2-36                 [-1, 192, 12, 12]         --\n",
              "|    |    └─Conv2d: 3-51                 [-1, 192, 12, 12]         147,456\n",
              "|    |    └─BatchNorm2d: 3-52            [-1, 192, 12, 12]         384\n",
              "|    └─BasicConv2d: 2-37                 [-1, 128, 12, 12]         --\n",
              "|    |    └─Conv2d: 3-53                 [-1, 128, 12, 12]         98,304\n",
              "|    |    └─BatchNorm2d: 3-54            [-1, 128, 12, 12]         256\n",
              "|    └─BasicConv2d: 2-38                 [-1, 128, 12, 12]         --\n",
              "|    |    └─Conv2d: 3-55                 [-1, 128, 12, 12]         114,688\n",
              "|    |    └─BatchNorm2d: 3-56            [-1, 128, 12, 12]         256\n",
              "|    └─BasicConv2d: 2-39                 [-1, 192, 12, 12]         --\n",
              "|    |    └─Conv2d: 3-57                 [-1, 192, 12, 12]         172,032\n",
              "|    |    └─BatchNorm2d: 3-58            [-1, 192, 12, 12]         384\n",
              "|    └─BasicConv2d: 2-40                 [-1, 128, 12, 12]         --\n",
              "|    |    └─Conv2d: 3-59                 [-1, 128, 12, 12]         98,304\n",
              "|    |    └─BatchNorm2d: 3-60            [-1, 128, 12, 12]         256\n",
              "|    └─BasicConv2d: 2-41                 [-1, 128, 12, 12]         --\n",
              "|    |    └─Conv2d: 3-61                 [-1, 128, 12, 12]         114,688\n",
              "|    |    └─BatchNorm2d: 3-62            [-1, 128, 12, 12]         256\n",
              "|    └─BasicConv2d: 2-42                 [-1, 128, 12, 12]         --\n",
              "|    |    └─Conv2d: 3-63                 [-1, 128, 12, 12]         114,688\n",
              "|    |    └─BatchNorm2d: 3-64            [-1, 128, 12, 12]         256\n",
              "|    └─BasicConv2d: 2-43                 [-1, 128, 12, 12]         --\n",
              "|    |    └─Conv2d: 3-65                 [-1, 128, 12, 12]         114,688\n",
              "|    |    └─BatchNorm2d: 3-66            [-1, 128, 12, 12]         256\n",
              "|    └─BasicConv2d: 2-44                 [-1, 192, 12, 12]         --\n",
              "|    |    └─Conv2d: 3-67                 [-1, 192, 12, 12]         172,032\n",
              "|    |    └─BatchNorm2d: 3-68            [-1, 192, 12, 12]         384\n",
              "|    └─BasicConv2d: 2-45                 [-1, 192, 12, 12]         --\n",
              "|    |    └─Conv2d: 3-69                 [-1, 192, 12, 12]         147,456\n",
              "|    |    └─BatchNorm2d: 3-70            [-1, 192, 12, 12]         384\n",
              "├─InceptionC: 1-13                       [-1, 768, 12, 12]         --\n",
              "|    └─BasicConv2d: 2-46                 [-1, 192, 12, 12]         --\n",
              "|    |    └─Conv2d: 3-71                 [-1, 192, 12, 12]         147,456\n",
              "|    |    └─BatchNorm2d: 3-72            [-1, 192, 12, 12]         384\n",
              "|    └─BasicConv2d: 2-47                 [-1, 160, 12, 12]         --\n",
              "|    |    └─Conv2d: 3-73                 [-1, 160, 12, 12]         122,880\n",
              "|    |    └─BatchNorm2d: 3-74            [-1, 160, 12, 12]         320\n",
              "|    └─BasicConv2d: 2-48                 [-1, 160, 12, 12]         --\n",
              "|    |    └─Conv2d: 3-75                 [-1, 160, 12, 12]         179,200\n",
              "|    |    └─BatchNorm2d: 3-76            [-1, 160, 12, 12]         320\n",
              "|    └─BasicConv2d: 2-49                 [-1, 192, 12, 12]         --\n",
              "|    |    └─Conv2d: 3-77                 [-1, 192, 12, 12]         215,040\n",
              "|    |    └─BatchNorm2d: 3-78            [-1, 192, 12, 12]         384\n",
              "|    └─BasicConv2d: 2-50                 [-1, 160, 12, 12]         --\n",
              "|    |    └─Conv2d: 3-79                 [-1, 160, 12, 12]         122,880\n",
              "|    |    └─BatchNorm2d: 3-80            [-1, 160, 12, 12]         320\n",
              "|    └─BasicConv2d: 2-51                 [-1, 160, 12, 12]         --\n",
              "|    |    └─Conv2d: 3-81                 [-1, 160, 12, 12]         179,200\n",
              "|    |    └─BatchNorm2d: 3-82            [-1, 160, 12, 12]         320\n",
              "|    └─BasicConv2d: 2-52                 [-1, 160, 12, 12]         --\n",
              "|    |    └─Conv2d: 3-83                 [-1, 160, 12, 12]         179,200\n",
              "|    |    └─BatchNorm2d: 3-84            [-1, 160, 12, 12]         320\n",
              "|    └─BasicConv2d: 2-53                 [-1, 160, 12, 12]         --\n",
              "|    |    └─Conv2d: 3-85                 [-1, 160, 12, 12]         179,200\n",
              "|    |    └─BatchNorm2d: 3-86            [-1, 160, 12, 12]         320\n",
              "|    └─BasicConv2d: 2-54                 [-1, 192, 12, 12]         --\n",
              "|    |    └─Conv2d: 3-87                 [-1, 192, 12, 12]         215,040\n",
              "|    |    └─BatchNorm2d: 3-88            [-1, 192, 12, 12]         384\n",
              "|    └─BasicConv2d: 2-55                 [-1, 192, 12, 12]         --\n",
              "|    |    └─Conv2d: 3-89                 [-1, 192, 12, 12]         147,456\n",
              "|    |    └─BatchNorm2d: 3-90            [-1, 192, 12, 12]         384\n",
              "├─InceptionC: 1-14                       [-1, 768, 12, 12]         --\n",
              "|    └─BasicConv2d: 2-56                 [-1, 192, 12, 12]         --\n",
              "|    |    └─Conv2d: 3-91                 [-1, 192, 12, 12]         147,456\n",
              "|    |    └─BatchNorm2d: 3-92            [-1, 192, 12, 12]         384\n",
              "|    └─BasicConv2d: 2-57                 [-1, 160, 12, 12]         --\n",
              "|    |    └─Conv2d: 3-93                 [-1, 160, 12, 12]         122,880\n",
              "|    |    └─BatchNorm2d: 3-94            [-1, 160, 12, 12]         320\n",
              "|    └─BasicConv2d: 2-58                 [-1, 160, 12, 12]         --\n",
              "|    |    └─Conv2d: 3-95                 [-1, 160, 12, 12]         179,200\n",
              "|    |    └─BatchNorm2d: 3-96            [-1, 160, 12, 12]         320\n",
              "|    └─BasicConv2d: 2-59                 [-1, 192, 12, 12]         --\n",
              "|    |    └─Conv2d: 3-97                 [-1, 192, 12, 12]         215,040\n",
              "|    |    └─BatchNorm2d: 3-98            [-1, 192, 12, 12]         384\n",
              "|    └─BasicConv2d: 2-60                 [-1, 160, 12, 12]         --\n",
              "|    |    └─Conv2d: 3-99                 [-1, 160, 12, 12]         122,880\n",
              "|    |    └─BatchNorm2d: 3-100           [-1, 160, 12, 12]         320\n",
              "|    └─BasicConv2d: 2-61                 [-1, 160, 12, 12]         --\n",
              "|    |    └─Conv2d: 3-101                [-1, 160, 12, 12]         179,200\n",
              "|    |    └─BatchNorm2d: 3-102           [-1, 160, 12, 12]         320\n",
              "|    └─BasicConv2d: 2-62                 [-1, 160, 12, 12]         --\n",
              "|    |    └─Conv2d: 3-103                [-1, 160, 12, 12]         179,200\n",
              "|    |    └─BatchNorm2d: 3-104           [-1, 160, 12, 12]         320\n",
              "|    └─BasicConv2d: 2-63                 [-1, 160, 12, 12]         --\n",
              "|    |    └─Conv2d: 3-105                [-1, 160, 12, 12]         179,200\n",
              "|    |    └─BatchNorm2d: 3-106           [-1, 160, 12, 12]         320\n",
              "|    └─BasicConv2d: 2-64                 [-1, 192, 12, 12]         --\n",
              "|    |    └─Conv2d: 3-107                [-1, 192, 12, 12]         215,040\n",
              "|    |    └─BatchNorm2d: 3-108           [-1, 192, 12, 12]         384\n",
              "|    └─BasicConv2d: 2-65                 [-1, 192, 12, 12]         --\n",
              "|    |    └─Conv2d: 3-109                [-1, 192, 12, 12]         147,456\n",
              "|    |    └─BatchNorm2d: 3-110           [-1, 192, 12, 12]         384\n",
              "├─InceptionC: 1-15                       [-1, 768, 12, 12]         --\n",
              "|    └─BasicConv2d: 2-66                 [-1, 192, 12, 12]         --\n",
              "|    |    └─Conv2d: 3-111                [-1, 192, 12, 12]         147,456\n",
              "|    |    └─BatchNorm2d: 3-112           [-1, 192, 12, 12]         384\n",
              "|    └─BasicConv2d: 2-67                 [-1, 192, 12, 12]         --\n",
              "|    |    └─Conv2d: 3-113                [-1, 192, 12, 12]         147,456\n",
              "|    |    └─BatchNorm2d: 3-114           [-1, 192, 12, 12]         384\n",
              "|    └─BasicConv2d: 2-68                 [-1, 192, 12, 12]         --\n",
              "|    |    └─Conv2d: 3-115                [-1, 192, 12, 12]         258,048\n",
              "|    |    └─BatchNorm2d: 3-116           [-1, 192, 12, 12]         384\n",
              "|    └─BasicConv2d: 2-69                 [-1, 192, 12, 12]         --\n",
              "|    |    └─Conv2d: 3-117                [-1, 192, 12, 12]         258,048\n",
              "|    |    └─BatchNorm2d: 3-118           [-1, 192, 12, 12]         384\n",
              "|    └─BasicConv2d: 2-70                 [-1, 192, 12, 12]         --\n",
              "|    |    └─Conv2d: 3-119                [-1, 192, 12, 12]         147,456\n",
              "|    |    └─BatchNorm2d: 3-120           [-1, 192, 12, 12]         384\n",
              "|    └─BasicConv2d: 2-71                 [-1, 192, 12, 12]         --\n",
              "|    |    └─Conv2d: 3-121                [-1, 192, 12, 12]         258,048\n",
              "|    |    └─BatchNorm2d: 3-122           [-1, 192, 12, 12]         384\n",
              "|    └─BasicConv2d: 2-72                 [-1, 192, 12, 12]         --\n",
              "|    |    └─Conv2d: 3-123                [-1, 192, 12, 12]         258,048\n",
              "|    |    └─BatchNorm2d: 3-124           [-1, 192, 12, 12]         384\n",
              "|    └─BasicConv2d: 2-73                 [-1, 192, 12, 12]         --\n",
              "|    |    └─Conv2d: 3-125                [-1, 192, 12, 12]         258,048\n",
              "|    |    └─BatchNorm2d: 3-126           [-1, 192, 12, 12]         384\n",
              "|    └─BasicConv2d: 2-74                 [-1, 192, 12, 12]         --\n",
              "|    |    └─Conv2d: 3-127                [-1, 192, 12, 12]         258,048\n",
              "|    |    └─BatchNorm2d: 3-128           [-1, 192, 12, 12]         384\n",
              "|    └─BasicConv2d: 2-75                 [-1, 192, 12, 12]         --\n",
              "|    |    └─Conv2d: 3-129                [-1, 192, 12, 12]         147,456\n",
              "|    |    └─BatchNorm2d: 3-130           [-1, 192, 12, 12]         384\n",
              "├─InceptionD: 1-16                       [-1, 1280, 5, 5]          --\n",
              "|    └─BasicConv2d: 2-76                 [-1, 192, 12, 12]         --\n",
              "|    |    └─Conv2d: 3-131                [-1, 192, 12, 12]         147,456\n",
              "|    |    └─BatchNorm2d: 3-132           [-1, 192, 12, 12]         384\n",
              "|    └─BasicConv2d: 2-77                 [-1, 320, 5, 5]           --\n",
              "|    |    └─Conv2d: 3-133                [-1, 320, 5, 5]           552,960\n",
              "|    |    └─BatchNorm2d: 3-134           [-1, 320, 5, 5]           640\n",
              "|    └─BasicConv2d: 2-78                 [-1, 192, 12, 12]         --\n",
              "|    |    └─Conv2d: 3-135                [-1, 192, 12, 12]         147,456\n",
              "|    |    └─BatchNorm2d: 3-136           [-1, 192, 12, 12]         384\n",
              "|    └─BasicConv2d: 2-79                 [-1, 192, 12, 12]         --\n",
              "|    |    └─Conv2d: 3-137                [-1, 192, 12, 12]         258,048\n",
              "|    |    └─BatchNorm2d: 3-138           [-1, 192, 12, 12]         384\n",
              "|    └─BasicConv2d: 2-80                 [-1, 192, 12, 12]         --\n",
              "|    |    └─Conv2d: 3-139                [-1, 192, 12, 12]         258,048\n",
              "|    |    └─BatchNorm2d: 3-140           [-1, 192, 12, 12]         384\n",
              "|    └─BasicConv2d: 2-81                 [-1, 192, 5, 5]           --\n",
              "|    |    └─Conv2d: 3-141                [-1, 192, 5, 5]           331,776\n",
              "|    |    └─BatchNorm2d: 3-142           [-1, 192, 5, 5]           384\n",
              "├─InceptionE: 1-17                       [-1, 2048, 5, 5]          --\n",
              "|    └─BasicConv2d: 2-82                 [-1, 320, 5, 5]           --\n",
              "|    |    └─Conv2d: 3-143                [-1, 320, 5, 5]           409,600\n",
              "|    |    └─BatchNorm2d: 3-144           [-1, 320, 5, 5]           640\n",
              "|    └─BasicConv2d: 2-83                 [-1, 384, 5, 5]           --\n",
              "|    |    └─Conv2d: 3-145                [-1, 384, 5, 5]           491,520\n",
              "|    |    └─BatchNorm2d: 3-146           [-1, 384, 5, 5]           768\n",
              "|    └─BasicConv2d: 2-84                 [-1, 384, 5, 5]           --\n",
              "|    |    └─Conv2d: 3-147                [-1, 384, 5, 5]           442,368\n",
              "|    |    └─BatchNorm2d: 3-148           [-1, 384, 5, 5]           768\n",
              "|    └─BasicConv2d: 2-85                 [-1, 384, 5, 5]           --\n",
              "|    |    └─Conv2d: 3-149                [-1, 384, 5, 5]           442,368\n",
              "|    |    └─BatchNorm2d: 3-150           [-1, 384, 5, 5]           768\n",
              "|    └─BasicConv2d: 2-86                 [-1, 448, 5, 5]           --\n",
              "|    |    └─Conv2d: 3-151                [-1, 448, 5, 5]           573,440\n",
              "|    |    └─BatchNorm2d: 3-152           [-1, 448, 5, 5]           896\n",
              "|    └─BasicConv2d: 2-87                 [-1, 384, 5, 5]           --\n",
              "|    |    └─Conv2d: 3-153                [-1, 384, 5, 5]           1,548,288\n",
              "|    |    └─BatchNorm2d: 3-154           [-1, 384, 5, 5]           768\n",
              "|    └─BasicConv2d: 2-88                 [-1, 384, 5, 5]           --\n",
              "|    |    └─Conv2d: 3-155                [-1, 384, 5, 5]           442,368\n",
              "|    |    └─BatchNorm2d: 3-156           [-1, 384, 5, 5]           768\n",
              "|    └─BasicConv2d: 2-89                 [-1, 384, 5, 5]           --\n",
              "|    |    └─Conv2d: 3-157                [-1, 384, 5, 5]           442,368\n",
              "|    |    └─BatchNorm2d: 3-158           [-1, 384, 5, 5]           768\n",
              "|    └─BasicConv2d: 2-90                 [-1, 192, 5, 5]           --\n",
              "|    |    └─Conv2d: 3-159                [-1, 192, 5, 5]           245,760\n",
              "|    |    └─BatchNorm2d: 3-160           [-1, 192, 5, 5]           384\n",
              "├─InceptionE: 1-18                       [-1, 2048, 5, 5]          --\n",
              "|    └─BasicConv2d: 2-91                 [-1, 320, 5, 5]           --\n",
              "|    |    └─Conv2d: 3-161                [-1, 320, 5, 5]           655,360\n",
              "|    |    └─BatchNorm2d: 3-162           [-1, 320, 5, 5]           640\n",
              "|    └─BasicConv2d: 2-92                 [-1, 384, 5, 5]           --\n",
              "|    |    └─Conv2d: 3-163                [-1, 384, 5, 5]           786,432\n",
              "|    |    └─BatchNorm2d: 3-164           [-1, 384, 5, 5]           768\n",
              "|    └─BasicConv2d: 2-93                 [-1, 384, 5, 5]           --\n",
              "|    |    └─Conv2d: 3-165                [-1, 384, 5, 5]           442,368\n",
              "|    |    └─BatchNorm2d: 3-166           [-1, 384, 5, 5]           768\n",
              "|    └─BasicConv2d: 2-94                 [-1, 384, 5, 5]           --\n",
              "|    |    └─Conv2d: 3-167                [-1, 384, 5, 5]           442,368\n",
              "|    |    └─BatchNorm2d: 3-168           [-1, 384, 5, 5]           768\n",
              "|    └─BasicConv2d: 2-95                 [-1, 448, 5, 5]           --\n",
              "|    |    └─Conv2d: 3-169                [-1, 448, 5, 5]           917,504\n",
              "|    |    └─BatchNorm2d: 3-170           [-1, 448, 5, 5]           896\n",
              "|    └─BasicConv2d: 2-96                 [-1, 384, 5, 5]           --\n",
              "|    |    └─Conv2d: 3-171                [-1, 384, 5, 5]           1,548,288\n",
              "|    |    └─BatchNorm2d: 3-172           [-1, 384, 5, 5]           768\n",
              "|    └─BasicConv2d: 2-97                 [-1, 384, 5, 5]           --\n",
              "|    |    └─Conv2d: 3-173                [-1, 384, 5, 5]           442,368\n",
              "|    |    └─BatchNorm2d: 3-174           [-1, 384, 5, 5]           768\n",
              "|    └─BasicConv2d: 2-98                 [-1, 384, 5, 5]           --\n",
              "|    |    └─Conv2d: 3-175                [-1, 384, 5, 5]           442,368\n",
              "|    |    └─BatchNorm2d: 3-176           [-1, 384, 5, 5]           768\n",
              "|    └─BasicConv2d: 2-99                 [-1, 192, 5, 5]           --\n",
              "|    |    └─Conv2d: 3-177                [-1, 192, 5, 5]           393,216\n",
              "|    |    └─BatchNorm2d: 3-178           [-1, 192, 5, 5]           384\n",
              "├─AdaptiveAvgPool2d: 1-19                [-1, 2048, 1, 1]          --\n",
              "├─Dropout: 1-20                          [-1, 2048, 1, 1]          --\n",
              "├─Sequential: 1-21                       [-1, 1]                   --\n",
              "|    └─Linear: 2-100                     [-1, 2000]                4,098,000\n",
              "|    └─ReLU: 2-101                       [-1, 2000]                --\n",
              "|    └─Dropout: 2-102                    [-1, 2000]                --\n",
              "|    └─Linear: 2-103                     [-1, 1000]                2,001,000\n",
              "|    └─ReLU: 2-104                       [-1, 1000]                --\n",
              "|    └─Dropout: 2-105                    [-1, 1000]                --\n",
              "|    └─Linear: 2-106                     [-1, 500]                 500,500\n",
              "|    └─ReLU: 2-107                       [-1, 500]                 --\n",
              "|    └─Dropout: 2-108                    [-1, 500]                 --\n",
              "|    └─Linear: 2-109                     [-1, 250]                 125,250\n",
              "|    └─ReLU: 2-110                       [-1, 250]                 --\n",
              "|    └─Linear: 2-111                     [-1, 1]                   251\n",
              "==========================================================================================\n",
              "Total params: 28,510,569\n",
              "Trainable params: 28,510,569\n",
              "Non-trainable params: 0\n",
              "Total mult-adds (G): 2.89\n",
              "==========================================================================================\n",
              "Input size (MB): 4.59\n",
              "Forward/backward pass size (MB): 70.96\n",
              "Params size (MB): 108.76\n",
              "Estimated Total Size (MB): 184.31\n",
              "=========================================================================================="
            ]
          },
          "metadata": {},
          "execution_count": 94
        }
      ]
    },
    {
      "cell_type": "code",
      "source": [
        "criterion=nn.BCEWithLogitsLoss()\n",
        "optimizer=th.optim.Adam(model.parameters(),lr=0.001)"
      ],
      "metadata": {
        "id": "6tHxbidqODGi"
      },
      "execution_count": null,
      "outputs": []
    },
    {
      "cell_type": "code",
      "source": [
        "def train_batch(img, target, model, optimizer, criterion):\n",
        "  model.train()\n",
        "  optimizer.zero_grad()\n",
        "  output = model(img)\n",
        "  loss = criterion(output, target.to(device))\n",
        "  loss.backward()\n",
        "  optimizer.step()\n",
        "  return loss\n",
        "def accuracy(x, y, model):\n",
        "  model.eval()\n",
        "  with th.no_grad():\n",
        "    prediction = model(x)\n",
        "  is_correct = (prediction > 0.5) == y\n",
        "  return is_correct.cpu().numpy().tolist()"
      ],
      "metadata": {
        "id": "PZts-ddJOa_L"
      },
      "execution_count": null,
      "outputs": []
    },
    {
      "cell_type": "code",
      "source": [
        "def validate_batch(img, target, model, criterion):\n",
        "  model.eval()\n",
        "  with th.no_grad():\n",
        "    output = model(img)\n",
        "  loss = criterion(output, target.to(device))\n",
        "  return output, loss"
      ],
      "metadata": {
        "id": "VgAHMXgCpt_J"
      },
      "execution_count": null,
      "outputs": []
    },
    {
      "cell_type": "code",
      "source": [
        "train_loss, test_loss = [], []\n",
        "n_epochs = 30\n",
        "train_accuracies = []\n",
        "val_accuracies = []\n",
        "for epoch in range(n_epochs):\n",
        "  epoch_train_loss, epoch_test_loss = 0, 0\n",
        "  train_epoch_accuracies = []\n",
        "  val_epoch_accuracies = []\n",
        "  count=0\n",
        "  for img,target in train_loader:\n",
        "    loss = train_batch(img, target, model, optimizer, criterion)\n",
        "    epoch_train_loss += loss.item()\n",
        "    count=count+1\n",
        "  epoch_train_loss /= (count)\n",
        "  count=0\n",
        "  for batch in train_loader:\n",
        "    x, y = batch\n",
        "    is_correct = accuracy(x, y, model)\n",
        "    train_epoch_accuracies.extend(is_correct)\n",
        "  train_epoch_accuracy = np.mean(train_epoch_accuracies)\n",
        "  count=0\n",
        "  for img,target in test_loader:\n",
        "    ps, loss = validate_batch(img, target, model, criterion)\n",
        "    epoch_test_loss += loss.item()\n",
        "    count=count+1\n",
        "  epoch_test_loss /= (count)\n",
        "  for  batch in test_loader:\n",
        "    x, y = batch\n",
        "    val_is_correct = accuracy(x, y, model)\n",
        "    val_epoch_accuracies.extend(val_is_correct)\n",
        "  val_epoch_accuracy = np.mean(val_epoch_accuracies)\n",
        "  train_accuracies.append(train_epoch_accuracy)\n",
        "  val_accuracies.append(val_epoch_accuracy)\n",
        "  print(f\" epoch={epoch+ 1} Train loss= {epoch_train_loss:.4f} Test loss={epoch_test_loss}\")\n",
        "  train_loss.append(epoch_train_loss)\n",
        "  test_loss.append(epoch_test_loss)"
      ],
      "metadata": {
        "colab": {
          "base_uri": "https://localhost:8080/"
        },
        "id": "4othh6R5qm-3",
        "outputId": "c27bda9b-b5b1-4618-e9f4-0e761da531da"
      },
      "execution_count": null,
      "outputs": [
        {
          "output_type": "stream",
          "name": "stdout",
          "text": [
            " epoch=1 Train loss= 0.7619 Test loss=0.6948360602060953\n",
            " epoch=2 Train loss= 0.6981 Test loss=0.8949005901813507\n",
            " epoch=3 Train loss= 0.6729 Test loss=4.069780406024691\n",
            " epoch=4 Train loss= 0.6907 Test loss=0.7200603634119034\n",
            " epoch=5 Train loss= 0.7013 Test loss=0.5896791368722916\n",
            " epoch=6 Train loss= 0.6771 Test loss=6.906081675111636\n",
            " epoch=7 Train loss= 0.6479 Test loss=0.6957382957140604\n",
            " epoch=8 Train loss= 0.8139 Test loss=18.663560549418133\n",
            " epoch=9 Train loss= 0.6797 Test loss=0.6915466686089834\n",
            " epoch=10 Train loss= 0.6931 Test loss=0.6868711213270823\n",
            " epoch=11 Train loss= 0.6900 Test loss=0.6731994847456614\n",
            " epoch=12 Train loss= 0.7009 Test loss=0.6749226450920105\n",
            " epoch=13 Train loss= 0.6886 Test loss=0.6682173609733582\n",
            " epoch=14 Train loss= 0.7281 Test loss=0.5623140235741934\n",
            " epoch=15 Train loss= 0.6922 Test loss=0.5752360771099726\n",
            " epoch=16 Train loss= 0.6994 Test loss=0.6823753714561462\n",
            " epoch=17 Train loss= 0.6875 Test loss=0.6819952527681986\n",
            " epoch=18 Train loss= 0.6882 Test loss=0.6812249024709066\n",
            " epoch=19 Train loss= 0.6933 Test loss=0.6727698047955831\n",
            " epoch=20 Train loss= 0.6869 Test loss=0.7022022207578024\n",
            " epoch=21 Train loss= 0.6924 Test loss=0.7711102366447449\n",
            " epoch=22 Train loss= 0.6815 Test loss=0.6892698705196381\n",
            " epoch=23 Train loss= 0.6720 Test loss=0.6855021764834722\n",
            " epoch=24 Train loss= 0.6891 Test loss=1.0773756752411525\n",
            " epoch=25 Train loss= 0.6589 Test loss=0.7715158859888712\n",
            " epoch=26 Train loss= 0.6619 Test loss=0.6546838084856669\n",
            " epoch=27 Train loss= 0.7004 Test loss=0.7159232199192047\n",
            " epoch=28 Train loss= 0.5987 Test loss=0.9174734279513359\n",
            " epoch=29 Train loss= 0.6638 Test loss=1.0191547969977062\n",
            " epoch=30 Train loss= 0.5510 Test loss=1.0955473259091377\n"
          ]
        }
      ]
    },
    {
      "cell_type": "code",
      "source": [
        "test=[]\n",
        "for loss in test_loss:\n",
        "  if(loss<1):\n",
        "    test.append(loss)"
      ],
      "metadata": {
        "id": "ZYA-oyE96DEP"
      },
      "execution_count": null,
      "outputs": []
    },
    {
      "cell_type": "code",
      "source": [
        "plt.plot(train_loss,label=\"train loss\")\n",
        "plt.legend()\n",
        "plt.show()"
      ],
      "metadata": {
        "id": "F3sBm7Derj2i",
        "colab": {
          "base_uri": "https://localhost:8080/",
          "height": 265
        },
        "outputId": "84befe44-4f55-4205-a787-96cd40ea2339"
      },
      "execution_count": null,
      "outputs": [
        {
          "output_type": "display_data",
          "data": {
            "text/plain": [
              "<Figure size 432x288 with 1 Axes>"
            ],
            "image/png": "[encoded data removed]"
          },
          "metadata": {
            "needs_background": "light"
          }
        }
      ]
    },
    {
      "cell_type": "code",
      "source": [
        "plt.plot(test,label=\"test loss\")\n",
        "plt.legend()\n",
        "plt.show()"
      ],
      "metadata": {
        "id": "dQo-vhO8YXLH",
        "colab": {
          "base_uri": "https://localhost:8080/",
          "height": 265
        },
        "outputId": "026d7120-218d-4a4d-f161-cf4025371ca7"
      },
      "execution_count": null,
      "outputs": [
        {
          "output_type": "display_data",
          "data": {
            "text/plain": [
              "<Figure size 432x288 with 1 Axes>"
            ],
            "image/png": "[encoded data removed]"
          },
          "metadata": {
            "needs_background": "light"
          }
        }
      ]
    },
    {
      "cell_type": "code",
      "source": [
        "plt.plot(train_accuracies[2:],label=\"train accuracy\")\n",
        "plt.plot(val_accuracies[2:],label=\"test accuracy\")\n",
        "plt.legend()\n",
        "plt.show()"
      ],
      "metadata": {
        "id": "2pHlaN-o02O1",
        "colab": {
          "base_uri": "https://localhost:8080/",
          "height": 265
        },
        "outputId": "e3f6ede0-4858-443b-d1e3-cce7f2695c23"
      },
      "execution_count": null,
      "outputs": [
        {
          "output_type": "display_data",
          "data": {
            "text/plain": [
              "<Figure size 432x288 with 1 Axes>"
            ],
            "image/png": "[encoded data removed]"
          },
          "metadata": {
            "needs_background": "light"
          }
        }
      ]
    },
    {
      "cell_type": "code",
      "source": [
        "from google.colab import files\n",
        "th.save(model.state_dict(),\"model3.pt\" )\n"
      ],
      "metadata": {
        "id": "d0UYtdk9BJdU"
      },
      "execution_count": null,
      "outputs": []
    },
    {
      "cell_type": "code",
      "source": [
        "files.download(\"model3.pt\")"
      ],
      "metadata": {
        "id": "SMj3NLLFOU4l",
        "colab": {
          "base_uri": "https://localhost:8080/",
          "height": 17
        },
        "outputId": "5eb25b1a-f64f-4041-803d-19d44a8c6ab9"
      },
      "execution_count": 116,
      "outputs": [
        {
          "output_type": "display_data",
          "data": {
            "text/plain": [
              "<IPython.core.display.Javascript object>"
            ],
            "application/javascript": [
              "\n",
              "    async function download(id, filename, size) {\n",
              "      if (!google.colab.kernel.accessAllowed) {\n",
              "        return;\n",
              "      }\n",
              "      const div = document.createElement('div');\n",
              "      const label = document.createElement('label');\n",
              "      label.textContent = `Downloading \"${filename}\": `;\n",
              "      div.appendChild(label);\n",
              "      const progress = document.createElement('progress');\n",
              "      progress.max = size;\n",
              "      div.appendChild(progress);\n",
              "      document.body.appendChild(div);\n",
              "\n",
              "      const buffers = [];\n",
              "      let downloaded = 0;\n",
              "\n",
              "      const channel = await google.colab.kernel.comms.open(id);\n",
              "      // Send a message to notify the kernel that we're ready.\n",
              "      channel.send({})\n",
              "\n",
              "      for await (const message of channel.messages) {\n",
              "        // Send a message to notify the kernel that we're ready.\n",
              "        channel.send({})\n",
              "        if (message.buffers) {\n",
              "          for (const buffer of message.buffers) {\n",
              "            buffers.push(buffer);\n",
              "            downloaded += buffer.byteLength;\n",
              "            progress.value = downloaded;\n",
              "          }\n",
              "        }\n",
              "      }\n",
              "      const blob = new Blob(buffers, {type: 'application/binary'});\n",
              "      const a = document.createElement('a');\n",
              "      a.href = window.URL.createObjectURL(blob);\n",
              "      a.download = filename;\n",
              "      div.appendChild(a);\n",
              "      a.click();\n",
              "      div.remove();\n",
              "    }\n",
              "  "
            ]
          },
          "metadata": {}
        },
        {
          "output_type": "display_data",
          "data": {
            "text/plain": [
              "<IPython.core.display.Javascript object>"
            ],
            "application/javascript": [
              "download(\"download_dfa9be2a-eede-40b5-b50a-cb62f3bcb34f\", \"model3.pt\", 127691483)"
            ]
          },
          "metadata": {}
        }
      ]
    },
    {
      "cell_type": "code",
      "source": [],
      "metadata": {
        "id": "epai4y0IRdhV",
        "colab": {
          "base_uri": "https://localhost:8080/"
        },
        "outputId": "22f5039c-bada-4b8b-9de3-f78b85608926"
      },
      "execution_count": 118,
      "outputs": [
        {
          "output_type": "stream",
          "name": "stdout",
          "text": [
            "Initialized empty Git repository in /content/gdrive/MyDrive/NAAMII/.git/\n"
          ]
        }
      ]
    },
    {
      "cell_type": "code",
      "source": [],
      "metadata": {
        "colab": {
          "base_uri": "https://localhost:8080/"
        },
        "id": "ir5eHBLyKMkI",
        "outputId": "0008d45c-e770-4c0c-960b-6e2ffdc8ecbb"
      },
      "execution_count": 119,
      "outputs": [
        {
          "output_type": "stream",
          "name": "stdout",
          "text": [
            "BBS1\t\t  Data.csv\t  model1.pt  model3.pt\n",
            "csv_script.ipynb  Eye2Gene.ipynb  model2.pt  WT\n"
          ]
        }
      ]
    },
    {
      "cell_type": "code",
      "source": [],
      "metadata": {
        "id": "E2PsQvynJY4P"
      },
      "execution_count": 128,
      "outputs": []
    },
    {
      "cell_type": "code",
      "source": [],
      "metadata": {
        "colab": {
          "base_uri": "https://localhost:8080/"
        },
        "id": "KuRoWk4dKXVx",
        "outputId": "465144d0-f35e-47a8-9d9c-b60283ef8a21"
      },
      "execution_count": 129,
      "outputs": [
        {
          "output_type": "stream",
          "name": "stdout",
          "text": [
            "On branch main\n",
            "Changes to be committed:\n",
            "  (use \"git reset HEAD <file>...\" to unstage)\n",
            "\n",
            "\t\u001b[32mmodified:   Eye2Gene.ipynb\u001b[m\n",
            "\n",
            "Untracked files:\n",
            "  (use \"git add <file>...\" to include in what will be committed)\n",
            "\n",
            "\t\u001b[31mBBS1/\u001b[m\n",
            "\t\u001b[31mWT/\u001b[m\n",
            "\t\u001b[31mmodel1.pt\u001b[m\n",
            "\t\u001b[31mmodel2.pt\u001b[m\n",
            "\t\u001b[31mmodel3.pt\u001b[m\n",
            "\n"
          ]
        }
      ]
    },
    {
      "cell_type": "code",
      "source": [],
      "metadata": {
        "id": "23cTFHRJLcBC"
      },
      "execution_count": 130,
      "outputs": []
    },
    {
      "cell_type": "code",
      "source": [],
      "metadata": {
        "colab": {
          "base_uri": "https://localhost:8080/"
        },
        "id": "hYL2zcM0LEwc",
        "outputId": "0e220eaa-09f6-4412-e154-c15dee07959b"
      },
      "execution_count": 131,
      "outputs": [
        {
          "output_type": "stream",
          "name": "stdout",
          "text": [
            "[main ca7c0bc] Additional files added\n",
            " 1 file changed, 1 insertion(+), 1 deletion(-)\n",
            " rewrite Eye2Gene.ipynb (95%)\n"
          ]
        }
      ]
    },
    {
      "cell_type": "code",
      "source": [],
      "metadata": {
        "colab": {
          "base_uri": "https://localhost:8080/"
        },
        "id": "yBd-3yVRLWr6",
        "outputId": "43524847-5c42-4824-c383-d2081862f730"
      },
      "execution_count": 132,
      "outputs": [
        {
          "output_type": "stream",
          "name": "stdout",
          "text": [
            "fatal: remote origin already exists.\n",
            "fatal: could not read Username for 'https://github.com': No such device or address\n"
          ]
        }
      ]
    },
    {
      "cell_type": "code",
      "source": [],
      "metadata": {
        "id": "8vHMux04Lz8m"
      },
      "execution_count": null,
      "outputs": []
    }
  ]
}